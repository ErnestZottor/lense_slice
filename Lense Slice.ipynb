{
 "cells": [
  {
   "cell_type": "code",
   "execution_count": 1,
   "id": "4a8c9250",
   "metadata": {},
   "outputs": [],
   "source": [
    "# Question 1\n",
    "toppings =[\"pepperoni\", \"pineapple\", \"cheese\", \"sausage\", \"olives\", \"anchovies\", \"mushrooms\"]\n"
   ]
  },
  {
   "cell_type": "code",
   "execution_count": 2,
   "id": "604459e4",
   "metadata": {},
   "outputs": [],
   "source": [
    "# question 2\n",
    "\n",
    "prices = [2, 6, 1, 3, 2, 7, 2]"
   ]
  },
  {
   "cell_type": "code",
   "execution_count": 4,
   "id": "8dc567e0",
   "metadata": {},
   "outputs": [
    {
     "name": "stdout",
     "output_type": "stream",
     "text": [
      "3\n"
     ]
    }
   ],
   "source": [
    "#Question 3\n",
    "num_two_dollar_slices = prices.count(2)\n",
    "print(num_two_dollar_slices)\n"
   ]
  },
  {
   "cell_type": "code",
   "execution_count": 7,
   "id": "e3e3205f",
   "metadata": {},
   "outputs": [
    {
     "name": "stdout",
     "output_type": "stream",
     "text": [
      "We sell 7 different kinds of pizza!\n"
     ]
    }
   ],
   "source": [
    "# Question 4\n",
    "num_pizzas = len(toppings)\n",
    "\n",
    "\n",
    "# Question 5\n",
    "print(\"We sell \"+str(num_pizzas) +\" different kinds of pizza!\")\n"
   ]
  },
  {
   "cell_type": "code",
   "execution_count": 8,
   "id": "9a69c02f",
   "metadata": {},
   "outputs": [
    {
     "name": "stdout",
     "output_type": "stream",
     "text": [
      "[[2, 'pepperoni'], [6, 'pineapple'], [1, 'cheese'], [3, 'sausage'], [2, 'olives'], [7, 'anchovies'], [2, 'mushrooms']]\n"
     ]
    }
   ],
   "source": [
    "# Question 6\n",
    "pizza_and_prices =[[2, \"pepperoni\"], [6,\"pineapple\"], [1, \"cheese\"], [3, \"sausage\"],[ 2,\"olives\"], [7, \"anchovies\"], [2, \"mushrooms\"]]\n",
    "\n",
    "#Question 7\n",
    "print(pizza_and_prices)\n",
    "\n"
   ]
  },
  {
   "cell_type": "code",
   "execution_count": 9,
   "id": "dca07380",
   "metadata": {},
   "outputs": [
    {
     "name": "stdout",
     "output_type": "stream",
     "text": [
      "[[1, 'cheese'], [2, 'mushrooms'], [2, 'olives'], [2, 'pepperoni'], [3, 'sausage'], [6, 'pineapple'], [7, 'anchovies']]\n"
     ]
    }
   ],
   "source": [
    "#Question 8\n",
    "pizza_and_prices.sort()\n",
    "print(pizza_and_prices)\n"
   ]
  },
  {
   "cell_type": "code",
   "execution_count": 10,
   "id": "c981553a",
   "metadata": {},
   "outputs": [
    {
     "name": "stdout",
     "output_type": "stream",
     "text": [
      "[1, 'cheese']\n"
     ]
    }
   ],
   "source": [
    "\n",
    "#question 9\n",
    "cheapest_pizza=pizza_and_prices[0]\n",
    "print(cheapest_pizza)\n"
   ]
  },
  {
   "cell_type": "code",
   "execution_count": 11,
   "id": "a78dde99",
   "metadata": {},
   "outputs": [
    {
     "name": "stdout",
     "output_type": "stream",
     "text": [
      "[7, 'anchovies']\n"
     ]
    }
   ],
   "source": [
    "\n",
    "#Question 10\n",
    "priciest_pizza = pizza_and_prices[-1]\n",
    "print(priciest_pizza)\n"
   ]
  },
  {
   "cell_type": "code",
   "execution_count": 12,
   "id": "d61a9977",
   "metadata": {},
   "outputs": [
    {
     "name": "stdout",
     "output_type": "stream",
     "text": [
      "[[1, 'cheese'], [2, 'mushrooms'], [2, 'olives'], [2, 'pepperoni'], [3, 'sausage'], [6, 'pineapple']]\n"
     ]
    }
   ],
   "source": [
    "#Question 11\n",
    "pizza_and_prices.pop()\n",
    "print(pizza_and_prices)\n"
   ]
  },
  {
   "cell_type": "code",
   "execution_count": 13,
   "id": "ff26b198",
   "metadata": {},
   "outputs": [
    {
     "name": "stdout",
     "output_type": "stream",
     "text": [
      "[[1, 'cheese'], [2, 'mushrooms'], [2, 'olives'], [2, 'pepperoni'], [2.5, 'peppers'], [3, 'sausage'], [6, 'pineapple']]\n"
     ]
    }
   ],
   "source": [
    "#question 12\n",
    "pizza_and_prices.insert(-2, [2.5, \"peppers\"])\n",
    "print(pizza_and_prices)\n",
    "\n"
   ]
  },
  {
   "cell_type": "code",
   "execution_count": null,
   "id": "5cfd0f99",
   "metadata": {},
   "outputs": [],
   "source": []
  },
  {
   "cell_type": "code",
   "execution_count": 14,
   "id": "5d044d5c",
   "metadata": {},
   "outputs": [
    {
     "name": "stdout",
     "output_type": "stream",
     "text": [
      "[[1, 'cheese'], [2, 'mushrooms'], [2, 'olives']]\n"
     ]
    }
   ],
   "source": [
    "#Question 13\n",
    "\n",
    "three_cheapest = pizza_and_prices[:3]\n",
    "\n",
    "# Question 14\n",
    "\n",
    "print(three_cheapest)\n",
    "\n"
   ]
  },
  {
   "cell_type": "code",
   "execution_count": null,
   "id": "3796c72c",
   "metadata": {},
   "outputs": [],
   "source": []
  }
 ],
 "metadata": {
  "kernelspec": {
   "display_name": "Python 3",
   "language": "python",
   "name": "python3"
  },
  "language_info": {
   "codemirror_mode": {
    "name": "ipython",
    "version": 3
   },
   "file_extension": ".py",
   "mimetype": "text/x-python",
   "name": "python",
   "nbconvert_exporter": "python",
   "pygments_lexer": "ipython3",
   "version": "3.8.8"
  }
 },
 "nbformat": 4,
 "nbformat_minor": 5
}

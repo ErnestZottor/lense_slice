{
 "cells": [
  {
   "cell_type": "code",
   "execution_count": 6,
   "id": "4a8c9250",
   "metadata": {},
   "outputs": [
    {
     "name": "stdout",
     "output_type": "stream",
     "text": [
      "Prices that are 2 dollars: 3\n",
      "We sell 7 different kinds of pizza!\n",
      "[[2, 'pepperoni'], [6, 'pineapple'], [1, 'cheese'], [3, 'sausage'], [2, 'olives'], [7, 'anchovies'], [2, 'mushrooms']]\n",
      "Sorted list: [[1, 'cheese'], [2, 'mushrooms'], [2, 'olives'], [2, 'pepperoni'], [3, 'sausage'], [6, 'pineapple'], [7, 'anchovies']]\n",
      "Cheapest pizza: [1, 'cheese']\n",
      "Priciest pizza: [7, 'anchovies']\n"
     ]
    }
   ],
   "source": [
    "\n",
    "toppings =[\"pepperoni\", \"pineapple\", \"cheese\", \"sausage\", \"olives\", \"anchovies\", \"mushrooms\"]\n",
    "prices = [2, 6, 1, 3, 2, 7, 2]\n",
    "\n",
    "num_two_dollar_slices = prices.count(2)\n",
    "print(\"Prices that are 2 dollars: \" + str(num_two_dollar_slices))\n",
    "\n",
    "num_pizzas = len(toppings)\n",
    "print(\"We sell \"+str(num_pizzas) +\" different kinds of pizza!\")\n",
    "\n",
    "pizza_and_prices =[[2, \"pepperoni\"], [6,\"pineapple\"], [1, \"cheese\"], [3, \"sausage\"],[ 2,\"olives\"], [7, \"anchovies\"], [2, \"mushrooms\"]]\n",
    "print(pizza_and_prices)\n",
    "\n",
    "pizza_and_prices.sort()\n",
    "print(\"Sorted list:\", pizza_and_prices)\n",
    "\n",
    "cheapest_pizza=pizza_and_prices[0]\n",
    "print('Cheapest pizza:', cheapest_pizza)\n",
    "\n",
    "priciest_pizza = pizza_and_prices[-1]\n",
    "print('Priciest pizza:', priciest_pizza)\n",
    "\n"
   ]
  },
  {
   "cell_type": "code",
   "execution_count": 9,
   "id": "604459e4",
   "metadata": {},
   "outputs": [
    {
     "name": "stdout",
     "output_type": "stream",
     "text": [
      "New list after deleting last item: [[1, 'cheese'], [2, 'mushrooms'], [2, 'olives'], [2, 'pepperoni'], [2.5, 'peppers'], [2.5, 'peppers']]\n",
      "New item added to list: [[1, 'cheese'], [2, 'mushrooms'], [2, 'olives'], [2, 'pepperoni'], [2.5, 'peppers'], [2.5, 'peppers'], [2.5, 'peppers']]\n",
      "The three cheapest pizzas: [[1, 'cheese'], [2, 'mushrooms'], [2, 'olives']]\n"
     ]
    }
   ],
   "source": [
    "\n",
    "pizza_and_prices.pop()\n",
    "print(\"New list after deleting last item:\", pizza_and_prices)\n",
    "\n",
    "pizza_and_prices.insert(-2, [2.5, \"peppers\"])\n",
    "print(\"New item added to list:\", pizza_and_prices)\n",
    "\n",
    "three_cheapest = pizza_and_prices[:3]\n",
    "print(\"The three cheapest pizzas:\", three_cheapest)"
   ]
  },
  {
   "cell_type": "code",
   "execution_count": null,
   "id": "92cab8e1",
   "metadata": {},
   "outputs": [],
   "source": []
  }
 ],
 "metadata": {
  "kernelspec": {
   "display_name": "Python 3",
   "language": "python",
   "name": "python3"
  },
  "language_info": {
   "codemirror_mode": {
    "name": "ipython",
    "version": 3
   },
   "file_extension": ".py",
   "mimetype": "text/x-python",
   "name": "python",
   "nbconvert_exporter": "python",
   "pygments_lexer": "ipython3",
   "version": "3.8.8"
  }
 },
 "nbformat": 4,
 "nbformat_minor": 5
}
